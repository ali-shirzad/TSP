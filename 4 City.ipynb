{
 "cells": [
  {
   "cell_type": "code",
   "execution_count": 1,
   "metadata": {},
   "outputs": [],
   "source": [
    "city = [\"theran\",\"esfehan\",\"shiraz\",\"foman\"]\n"
   ]
  },
  {
   "cell_type": "code",
   "execution_count": 2,
   "metadata": {},
   "outputs": [],
   "source": [
    "m = 10000\n"
   ]
  },
  {
   "cell_type": "code",
   "execution_count": 3,
   "metadata": {},
   "outputs": [],
   "source": [
    "cost =  [[m,10,20,12],[9,m,11,14],[14,13,m,8],[8,11,14,m]]"
   ]
  },
  {
   "cell_type": "code",
   "execution_count": 4,
   "metadata": {},
   "outputs": [],
   "source": [
    "City_0 , city_0, f = city.copy(),[\"tehran\"],[]\n",
    "for i in range(1,len(City_0)):\n",
    "    f.append(cost[0][i])\n",
    "    temf1 = []\n",
    "    temc1 = City_0[i]\n",
    "    del(City_0[i])\n",
    "    for j in range(1,len(City_0)+1):\n",
    "        if (i == j):\n",
    "            continue\n",
    "        temf1.append(f[i-1]+ cost[i][j] )\n",
    "    f [i-1] = temf1  \n",
    "    \n",
    "    City_0.insert(i,temc1)"
   ]
  },
  {
   "cell_type": "code",
   "execution_count": 5,
   "metadata": {},
   "outputs": [
    {
     "data": {
      "text/plain": [
       "[[21, 24], [33, 28], [23, 26]]"
      ]
     },
     "execution_count": 5,
     "metadata": {},
     "output_type": "execute_result"
    }
   ],
   "source": [
    "f"
   ]
  },
  {
   "cell_type": "code",
   "execution_count": 6,
   "metadata": {},
   "outputs": [],
   "source": [
    "f_0_1 = f[0]\n",
    "f_0_2 = f[1]\n",
    "f_0_3 = f[2]"
   ]
  },
  {
   "cell_type": "code",
   "execution_count": 7,
   "metadata": {},
   "outputs": [
    {
     "name": "stdout",
     "output_type": "stream",
     "text": [
      "[21, 24] [33, 28] [23, 26]\n"
     ]
    }
   ],
   "source": [
    "print(f_0_1,f_0_2,f_0_3)"
   ]
  },
  {
   "cell_type": "code",
   "execution_count": 8,
   "metadata": {},
   "outputs": [
    {
     "data": {
      "text/plain": [
       "[21, 24]"
      ]
     },
     "execution_count": 8,
     "metadata": {},
     "output_type": "execute_result"
    }
   ],
   "source": [
    "f_0_1"
   ]
  },
  {
   "cell_type": "code",
   "execution_count": 9,
   "metadata": {},
   "outputs": [],
   "source": [
    "City_0_1 = City_0[2:]"
   ]
  },
  {
   "cell_type": "code",
   "execution_count": 10,
   "metadata": {},
   "outputs": [
    {
     "data": {
      "text/plain": [
       "['shiraz', 'foman']"
      ]
     },
     "execution_count": 10,
     "metadata": {},
     "output_type": "execute_result"
    }
   ],
   "source": [
    "City_0_1"
   ]
  },
  {
   "cell_type": "code",
   "execution_count": 11,
   "metadata": {},
   "outputs": [],
   "source": [
    "City_0_2 =City_0[1:]\n",
    "del(City_0_2[2])\n"
   ]
  },
  {
   "cell_type": "code",
   "execution_count": 12,
   "metadata": {},
   "outputs": [
    {
     "data": {
      "text/plain": [
       "['esfehan', 'shiraz']"
      ]
     },
     "execution_count": 12,
     "metadata": {},
     "output_type": "execute_result"
    }
   ],
   "source": [
    "City_0_2 "
   ]
  },
  {
   "cell_type": "code",
   "execution_count": 13,
   "metadata": {},
   "outputs": [],
   "source": [
    "City_0_3 = City_0[1:3]"
   ]
  },
  {
   "cell_type": "code",
   "execution_count": 14,
   "metadata": {},
   "outputs": [
    {
     "data": {
      "text/plain": [
       "['esfehan', 'shiraz']"
      ]
     },
     "execution_count": 14,
     "metadata": {},
     "output_type": "execute_result"
    }
   ],
   "source": [
    "City_0_3"
   ]
  },
  {
   "cell_type": "code",
   "execution_count": 15,
   "metadata": {},
   "outputs": [],
   "source": [
    "City_0_1_2 = City_0[3]\n",
    "City_0_1_3 = City_0[2]\n",
    "City_0_2_1 = City_0[3]\n",
    "City_0_2_3 = City_0[1]\n",
    "City_0_3_2 = City_0[1]\n",
    "City_0_3_1 = City_0[2]\n"
   ]
  },
  {
   "cell_type": "code",
   "execution_count": 16,
   "metadata": {},
   "outputs": [],
   "source": [
    "f_0_1_2 = f[0][0]\n",
    "f_0_1_3 = f[0][1]\n",
    "f_0_2_1 = f[1][0]\n",
    "f_0_2_3 = f[1][1]\n",
    "f_0_3_1 = f[2][0]\n",
    "f_0_3_2 = f[2][1]\n",
    "\n",
    "\n"
   ]
  },
  {
   "cell_type": "code",
   "execution_count": 17,
   "metadata": {},
   "outputs": [],
   "source": [
    "f_0_1_2_3_0 = f_0_1_2 +cost[2][3]+cost[3][0]\n",
    "f_0_1_3_2_0 = f_0_1_3 + cost[3][2]+ cost[2][0]\n",
    "f_0_2_1_3_0 =f_0_2_1 + cost[1][3]+cost[3][0]\n",
    "f_0_2_3_1_0 = f_0_2_3 + cost[3][1]+cost[1][0]\n",
    "f_0_3_1_2_0 = f_0_3_1 + cost[1][2]+cost [2][0]\n",
    "f_0_3_2_1_0 = f_0_3_2 + cost[2][1]+ cost[1][0]"
   ]
  },
  {
   "cell_type": "code",
   "execution_count": 20,
   "metadata": {},
   "outputs": [],
   "source": [
    "f_final=[]\n",
    "f_final.append(f_0_1_2_3_0)\n",
    "f_final.append(f_0_1_3_2_0)\n",
    "f_final.append(f_0_2_1_3_0)\n",
    "f_final.append(f_0_2_3_1_0)\n",
    "f_final.append(f_0_3_1_2_0)\n",
    "f_final.append(f_0_3_2_1_0)\n",
    "\n"
   ]
  },
  {
   "cell_type": "code",
   "execution_count": 22,
   "metadata": {},
   "outputs": [
    {
     "data": {
      "text/plain": [
       "37"
      ]
     },
     "execution_count": 22,
     "metadata": {},
     "output_type": "execute_result"
    }
   ],
   "source": [
    "min(f_final)"
   ]
  },
  {
   "cell_type": "code",
   "execution_count": 23,
   "metadata": {},
   "outputs": [
    {
     "data": {
      "text/plain": [
       "0"
      ]
     },
     "execution_count": 23,
     "metadata": {},
     "output_type": "execute_result"
    }
   ],
   "source": [
    "f_final.index(37)"
   ]
  },
  {
   "cell_type": "code",
   "execution_count": 24,
   "metadata": {},
   "outputs": [],
   "source": [
    "Max_Tsp = f_final[0]"
   ]
  },
  {
   "cell_type": "code",
   "execution_count": 25,
   "metadata": {},
   "outputs": [
    {
     "data": {
      "text/plain": [
       "[37, 52, 55, 48, 48, 48]"
      ]
     },
     "execution_count": 25,
     "metadata": {},
     "output_type": "execute_result"
    }
   ],
   "source": [
    "f_final"
   ]
  },
  {
   "cell_type": "code",
   "execution_count": null,
   "metadata": {},
   "outputs": [],
   "source": []
  }
 ],
 "metadata": {
  "kernelspec": {
   "display_name": "Python 3",
   "language": "python",
   "name": "python3"
  },
  "language_info": {
   "codemirror_mode": {
    "name": "ipython",
    "version": 3
   },
   "file_extension": ".py",
   "mimetype": "text/x-python",
   "name": "python",
   "nbconvert_exporter": "python",
   "pygments_lexer": "ipython3",
   "version": "3.7.3"
  }
 },
 "nbformat": 4,
 "nbformat_minor": 2
}
